{
 "cells": [
  {
   "cell_type": "code",
   "execution_count": 2,
   "metadata": {},
   "outputs": [
    {
     "ename": "ModuleNotFoundError",
     "evalue": "No module named 'rake_nltk'",
     "output_type": "error",
     "traceback": [
      "\u001b[1;31m---------------------------------------------------------------------------\u001b[0m",
      "\u001b[1;31mModuleNotFoundError\u001b[0m                       Traceback (most recent call last)",
      "\u001b[1;32mc:\\Users\\TOSHIBA\\Desktop\\Projelerim\\Extract-Keywords-with-rake_nltk\\ExtractKeyword.ipynb Cell 1\u001b[0m in \u001b[0;36m<cell line: 1>\u001b[1;34m()\u001b[0m\n\u001b[1;32m----> <a href='vscode-notebook-cell:/c%3A/Users/TOSHIBA/Desktop/Projelerim/Extract-Keywords-with-rake_nltk/ExtractKeyword.ipynb#W1sZmlsZQ%3D%3D?line=0'>1</a>\u001b[0m \u001b[39mfrom\u001b[39;00m \u001b[39mrake_nltk\u001b[39;00m \u001b[39mimport\u001b[39;00m Rake\n",
      "\u001b[1;31mModuleNotFoundError\u001b[0m: No module named 'rake_nltk'"
     ]
    }
   ],
   "source": [
    "from rake_nltk import Rake\n"
   ]
  },
  {
   "cell_type": "code",
   "execution_count": null,
   "metadata": {},
   "outputs": [],
   "source": [
    "rake_nltk_var = Rake()"
   ]
  },
  {
   "cell_type": "code",
   "execution_count": null,
   "metadata": {},
   "outputs": [],
   "source": [
    "text =\"\"\" Nobody knows how many people lie trapped under the rubble. When two powerful earthquakes hit southern Turkey and northern Syria on February 6th, thousands of buildings collapsed, burying families as they slept. Rescuers are racing to dig them out before they succumb to injury, thirst or the biting cold. By February 9th estimates of the death toll stood at more than 16,000; the true figure may be far higher. The World Health Organisation says it could be 20,000, which would make it even worse than the quake that struck Izmit, 100km (60 miles) east of Istanbul, in 1999, killing some 18,000. Buckled roads, complex terrain and the vast size of the affected area, spreading out along the East Anatolian fault for some 450km, are making the relief effort hellishly difficult to manage.\n",
    "\n",
    "The quake-struck parts of Syria were previously battered by a decade of war. Syria’s despot, Bashar al-Assad, is so wary of outsiders and heedless of human life that he may impede access for foreign relief agencies. Even in parts of Syria outside his control, entry relies on roads from Turkey that are now badly damaged. Turkey is naturally concentrating on its own people. Donors must try, against the odds, to ensure that Syria is not abandoned. So far, however, the response has been much too slow.  \"\"\""
   ]
  },
  {
   "cell_type": "code",
   "execution_count": null,
   "metadata": {},
   "outputs": [],
   "source": [
    "rake_nltk_var.extract_keyword_from_text(text)\n",
    "keyword_extracted = rake_nltk_var.get_ranked_phrares()\n",
    "print(keyword_extracted)"
   ]
  }
 ],
 "metadata": {
  "kernelspec": {
   "display_name": "pythonProject",
   "language": "python",
   "name": "python3"
  },
  "language_info": {
   "codemirror_mode": {
    "name": "ipython",
    "version": 3
   },
   "file_extension": ".py",
   "mimetype": "text/x-python",
   "name": "python",
   "nbconvert_exporter": "python",
   "pygments_lexer": "ipython3",
   "version": "3.9.12"
  },
  "orig_nbformat": 4,
  "vscode": {
   "interpreter": {
    "hash": "45a60c048f4ccd6c48c495f838e9ad694b36421548fddd91d87e2ee8d4b585bd"
   }
  }
 },
 "nbformat": 4,
 "nbformat_minor": 2
}
