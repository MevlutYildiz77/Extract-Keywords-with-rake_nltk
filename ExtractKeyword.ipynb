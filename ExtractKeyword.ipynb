{
 "cells": [
  {
   "cell_type": "code",
   "execution_count": 3,
   "metadata": {},
   "outputs": [],
   "source": [
    "from rake_nltk import Rake\n"
   ]
  },
  {
   "cell_type": "code",
   "execution_count": 4,
   "metadata": {},
   "outputs": [],
   "source": [
    "rake_nltk_var = Rake()"
   ]
  },
  {
   "cell_type": "code",
   "execution_count": 5,
   "metadata": {},
   "outputs": [],
   "source": [
    "text =\"\"\" Nobody knows how many people lie trapped under the rubble. When two powerful earthquakes hit southern Turkey and northern Syria on February 6th, thousands of buildings collapsed, burying families as they slept. Rescuers are racing to dig them out before they succumb to injury, thirst or the biting cold. By February 9th estimates of the death toll stood at more than 16,000; the true figure may be far higher. The World Health Organisation says it could be 20,000, which would make it even worse than the quake that struck Izmit, 100km (60 miles) east of Istanbul, in 1999, killing some 18,000. Buckled roads, complex terrain and the vast size of the affected area, spreading out along the East Anatolian fault for some 450km, are making the relief effort hellishly difficult to manage.\n",
    "\n",
    "The quake-struck parts of Syria were previously battered by a decade of war. Syria’s despot, Bashar al-Assad, is so wary of outsiders and heedless of human life that he may impede access for foreign relief agencies. Even in parts of Syria outside his control, entry relies on roads from Turkey that are now badly damaged. Turkey is naturally concentrating on its own people. Donors must try, against the odds, to ensure that Syria is not abandoned. So far, however, the response has been much too slow.  \"\"\""
   ]
  },
  {
   "cell_type": "code",
   "execution_count": 8,
   "metadata": {},
   "outputs": [
    {
     "name": "stdout",
     "output_type": "stream",
     "text": [
      "['two powerful earthquakes hit southern turkey', 'world health organisation says', 'relief effort hellishly difficult', 'many people lie trapped', 'foreign relief agencies', 'true figure may', 'may impede access', 'donors must try', 'death toll stood', 'february 9th estimates', 'east anatolian fault', 'february 6th', 'would make', 'vast size', 'struck izmit', 'previously battered', 'nobody knows', 'naturally concentrating', 'human life', 'entry relies', 'complex terrain', 'burying families', 'buildings collapsed', 'biting cold', 'bashar al', 'badly damaged', 'affected area', '60 miles', 'syria ’', 'syria outside', 'northern syria', 'struck parts', 'far higher', 'even worse', 'buckled roads', 'turkey', 'turkey', 'people', 'east', 'syria', 'syria', 'roads', 'parts', 'far', 'even', 'wary', 'war', 'thousands', 'thirst', 'succumb', 'spreading', 'slow', 'slept', 'rubble', 'response', 'rescuers', 'racing', 'quake', 'quake', 'outsiders', 'odds', 'much', 'manage', 'making', 'killing', 'istanbul', 'injury', 'however', 'heedless', 'ensure', 'dig', 'despot', 'decade', 'could', 'control', 'assad', 'along', 'abandoned', '450km', '20', '1999', '18', '16', '100km', '000', '000', '000']\n"
     ]
    }
   ],
   "source": [
    "rake_nltk_var.extract_keywords_from_text(text)\n",
    "keyword_extracted = rake_nltk_var.get_ranked_phrases()\n",
    "print(keyword_extracted)"
   ]
  }
 ],
 "metadata": {
  "kernelspec": {
   "display_name": "pythonProject",
   "language": "python",
   "name": "python3"
  },
  "language_info": {
   "codemirror_mode": {
    "name": "ipython",
    "version": 3
   },
   "file_extension": ".py",
   "mimetype": "text/x-python",
   "name": "python",
   "nbconvert_exporter": "python",
   "pygments_lexer": "ipython3",
   "version": "3.9.12"
  },
  "orig_nbformat": 4,
  "vscode": {
   "interpreter": {
    "hash": "45a60c048f4ccd6c48c495f838e9ad694b36421548fddd91d87e2ee8d4b585bd"
   }
  }
 },
 "nbformat": 4,
 "nbformat_minor": 2
}
